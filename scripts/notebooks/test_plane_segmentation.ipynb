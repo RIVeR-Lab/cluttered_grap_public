{
 "cells": [
  {
   "cell_type": "code",
   "execution_count": 4,
   "id": "7a7f868b-8586-4ea2-a50c-53c430126468",
   "metadata": {},
   "outputs": [
    {
     "name": "stderr",
     "output_type": "stream",
     "text": [
      "sh: 1: source: not found\n"
     ]
    }
   ],
   "source": [
    "import rospy\n",
    "import rospkg\n",
    "\n",
    "import cv2 as cv\n",
    "from cluttered_grasp.srv import segment_plane\n",
    "from cv_bridge import CvBridge\n",
    "from matplotlib import pyplot as plt\n",
    "# Authored by Gary Lvov"
   ]
  },
  {
   "cell_type": "code",
   "execution_count": null,
   "id": "af19f50e-074a-468a-98a7-1d9c38b2263d",
   "metadata": {},
   "outputs": [],
   "source": [
    "rospy.init_node(\"test_plane_seg\")\n",
    "br = CvBridge()"
   ]
  },
  {
   "cell_type": "code",
   "execution_count": null,
   "id": "3f3b0d87-03d0-4d35-9046-75cc6177daf4",
   "metadata": {},
   "outputs": [],
   "source": [
    "def get_plane():\n",
    "    rospy.wait_for_service(\"/segment_plane\")\n",
    "    try:\n",
    "        get_seg = rospy.ServiceProxy('/segment_plane', segment_plane)\n",
    "        seg_img = get_seg().img\n",
    "        seg_img = br.imgmsg_to_cv2(seg_img)\n",
    "        return seg_img\n",
    "\n",
    "    except rospy.ServiceException as e:\n",
    "        print(\"Service call failed: %s\"%e)"
   ]
  },
  {
   "cell_type": "code",
   "execution_count": null,
   "id": "fd06a59a-6a3c-47e1-863f-e82b73983fee",
   "metadata": {},
   "outputs": [],
   "source": [
    "plane_seg = get_plane()\n",
    "plt.figure()\n",
    "plt.imshow(plane_seg)"
   ]
  }
 ],
 "metadata": {
  "interpreter": {
   "hash": "e7370f93d1d0cde622a1f8e1c04877d8463912d04d973331ad4851f04de6915a"
  },
  "kernelspec": {
   "display_name": "Python 3 (ipykernel)",
   "language": "python",
   "name": "python3"
  },
  "language_info": {
   "codemirror_mode": {
    "name": "ipython",
    "version": 3
   },
   "file_extension": ".py",
   "mimetype": "text/x-python",
   "name": "python",
   "nbconvert_exporter": "python",
   "pygments_lexer": "ipython3",
   "version": "3.8.10"
  }
 },
 "nbformat": 4,
 "nbformat_minor": 5
}
