{
 "cells": [
  {
   "cell_type": "code",
   "execution_count": 1,
   "id": "7a7f868b-8586-4ea2-a50c-53c430126468",
   "metadata": {},
   "outputs": [],
   "source": [
    "import rospy\n",
    "\n",
    "import cv2 as cv\n",
    "from geometry_msgs.msg import Point\n",
    "from cluttered_grasp.srv import superpixel\n",
    "from cluttered_grasp.srv import nudge\n",
    "from cv_bridge import CvBridge\n",
    "from matplotlib import pyplot as plt\n",
    "# Authored by Gary Lvov"
   ]
  },
  {
   "cell_type": "code",
   "execution_count": 2,
   "id": "af19f50e-074a-468a-98a7-1d9c38b2263d",
   "metadata": {},
   "outputs": [],
   "source": [
    "rospy.init_node(\"test_clutter_nudge\")\n",
    "br = CvBridge()"
   ]
  },
  {
   "cell_type": "code",
   "execution_count": 3,
   "id": "4c489fcd-ca70-4bd3-a650-28ad2590729e",
   "metadata": {},
   "outputs": [],
   "source": [
    "def get_superpixels():\n",
    "        rospy.wait_for_service(\"/superpixel\")\n",
    "        try:\n",
    "            get_image = rospy.ServiceProxy(\"/superpixel\", superpixel)\n",
    "            img = get_image().image # get the image in bytes format\n",
    "            # img = self.br.imgmsg_to_cv2(img)-\n",
    "            return img\n",
    "        except rospy.ServiceException as e:\n",
    "            print(\"Service call failed: %s\"%e)"
   ]
  },
  {
   "cell_type": "code",
   "execution_count": 4,
   "id": "ea3b82df-8096-4cdd-85dc-dfeb646a1092",
   "metadata": {},
   "outputs": [],
   "source": [
    "superpixels = get_superpixels()"
   ]
  },
  {
   "cell_type": "code",
   "execution_count": 5,
   "id": "3f3b0d87-03d0-4d35-9046-75cc6177daf4",
   "metadata": {},
   "outputs": [],
   "source": [
    "def nudgef(targets, superpixels):\n",
    "    rospy.wait_for_service(\"/nudge\")\n",
    "    try:\n",
    "        get_nudge = rospy.ServiceProxy('/nudge', nudge)\n",
    "        nudge_res_bool = get_nudge(targets, superpixels).res\n",
    "        return nudge_res_bool\n",
    "        \n",
    "    except rospy.ServiceException as e:\n",
    "        print(\"Service call failed: %s\"%e)"
   ]
  },
  {
   "cell_type": "code",
   "execution_count": 28,
   "id": "fd06a59a-6a3c-47e1-863f-e82b73983fee",
   "metadata": {},
   "outputs": [],
   "source": [
    "targets = []\n",
    "p1 = Point()\n",
    "p1.x = 1418\n",
    "p1.y = 703\n",
    "p1.z = 519\n",
    "targets.append(p1)\n",
    "nudge_img = nudgef(targets, superpixels)"
   ]
  },
  {
   "cell_type": "code",
   "execution_count": null,
   "id": "ddb3844b",
   "metadata": {},
   "outputs": [],
   "source": []
  }
 ],
 "metadata": {
  "interpreter": {
   "hash": "e7370f93d1d0cde622a1f8e1c04877d8463912d04d973331ad4851f04de6915a"
  },
  "kernelspec": {
   "display_name": "Python 3.8.10 64-bit",
   "language": "python",
   "name": "python3"
  },
  "language_info": {
   "codemirror_mode": {
    "name": "ipython",
    "version": 3
   },
   "file_extension": ".py",
   "mimetype": "text/x-python",
   "name": "python",
   "nbconvert_exporter": "python",
   "pygments_lexer": "ipython3",
   "version": "3.8.10"
  }
 },
 "nbformat": 4,
 "nbformat_minor": 5
}
