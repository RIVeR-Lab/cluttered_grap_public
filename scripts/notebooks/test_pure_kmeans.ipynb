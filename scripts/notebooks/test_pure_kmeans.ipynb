{
 "cells": [
  {
   "cell_type": "code",
   "execution_count": 1,
   "id": "7a7f868b-8586-4ea2-a50c-53c430126468",
   "metadata": {},
   "outputs": [],
   "source": [
    "import rospy\n",
    "import rospkg\n",
    "\n",
    "import cv2 as cv\n",
    "from cluttered_grasp.srv import superpixel\n",
    "from cluttered_grasp.srv import pure_kmeans\n",
    "from cv_bridge import CvBridge\n",
    "from matplotlib import pyplot as plt\n",
    "# Authored by Gary Lvov"
   ]
  },
  {
   "cell_type": "code",
   "execution_count": 2,
   "id": "af19f50e-074a-468a-98a7-1d9c38b2263d",
   "metadata": {},
   "outputs": [],
   "source": [
    "rospy.init_node(\"test_pure\")\n",
    "br = CvBridge()"
   ]
  },
  {
   "cell_type": "code",
   "execution_count": 3,
   "id": "4c489fcd-ca70-4bd3-a650-28ad2590729e",
   "metadata": {},
   "outputs": [],
   "source": [
    "def get_superpixels():\n",
    "        rospy.wait_for_service(\"/superpixel\")\n",
    "        try:\n",
    "            get_image = rospy.ServiceProxy(\"/superpixel\", superpixel)\n",
    "            img = get_image().image # get the image in bytes format\n",
    "            # img = self.br.imgmsg_to_cv2(img)-\n",
    "            return img\n",
    "        except rospy.ServiceException as e:\n",
    "            print(\"Service call failed: %s\"%e)"
   ]
  },
  {
   "cell_type": "code",
   "execution_count": 4,
   "id": "ea3b82df-8096-4cdd-85dc-dfeb646a1092",
   "metadata": {},
   "outputs": [],
   "source": [
    "superpixels = get_superpixels()"
   ]
  },
  {
   "cell_type": "code",
   "execution_count": 5,
   "id": "3f3b0d87-03d0-4d35-9046-75cc6177daf4",
   "metadata": {},
   "outputs": [],
   "source": [
    "def get_pure_regions(superpixels):\n",
    "    rospy.wait_for_service(\"/pure_with_kmeans\")\n",
    "    try:\n",
    "        get_pure = rospy.ServiceProxy('/pure_with_kmeans', pure_kmeans)\n",
    "        pure_img = get_pure(superpixels).pure_regions\n",
    "        pure_img = br.imgmsg_to_cv2(pure_img)\n",
    "        return pure_img\n",
    "    except rospy.ServiceException as e:\n",
    "        print(\"Service call failed: %s\"%e)"
   ]
  },
  {
   "cell_type": "code",
   "execution_count": 6,
   "id": "fd06a59a-6a3c-47e1-863f-e82b73983fee",
   "metadata": {},
   "outputs": [
    {
     "data": {
      "text/plain": [
       "<matplotlib.image.AxesImage at 0x7f5544422ee0>"
      ]
     },
     "execution_count": 6,
     "metadata": {},
     "output_type": "execute_result"
    },
    {
     "data": {
      "image/png": "[encoded data removed]",
      "text/plain": [
       "<Figure size 432x288 with 1 Axes>"
      ]
     },
     "metadata": {
      "needs_background": "light"
     },
     "output_type": "display_data"
    }
   ],
   "source": [
    "pure_img = get_pure_regions(superpixels)\n",
    "plt.figure()\n",
    "plt.imshow(pure_img)"
   ]
  },
  {
   "cell_type": "code",
   "execution_count": null,
   "id": "9db1426c",
   "metadata": {},
   "outputs": [],
   "source": []
  }
 ],
 "metadata": {
  "interpreter": {
   "hash": "916dbcbb3f70747c44a77c7bcd40155683ae19c65e1c03b4aa3499c5328201f1"
  },
  "kernelspec": {
   "display_name": "Python 3.8.10 64-bit",
   "language": "python",
   "name": "python3"
  },
  "language_info": {
   "codemirror_mode": {
    "name": "ipython",
    "version": 3
   },
   "file_extension": ".py",
   "mimetype": "text/x-python",
   "name": "python",
   "nbconvert_exporter": "python",
   "pygments_lexer": "ipython3",
   "version": "3.8.10"
  }
 },
 "nbformat": 4,
 "nbformat_minor": 5
}
